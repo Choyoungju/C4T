{
 "cells": [
  {
   "cell_type": "code",
   "execution_count": 2,
   "metadata": {},
   "outputs": [
    {
     "name": "stdout",
     "output_type": "stream",
     "text": [
      "['<인도:LC>', '<이집트:LC>', '<팔라우:LC>', '<터키:LC>', '<싱가포르:LC>', '<노르웨이:LC>', '<일본:LC>', '<마카오:LC>']\n",
      "['<캐나다:LC>', '<브라질:LC>', '<러시아:LC>', '<프랑스:LC>', '<아르헨티나:LC>', '<뉴질랜드:LC>', '<라오스:LC>', '<요르단:LC>']\n",
      "['<타이:LC>', '<베트남:LC>', '<몰디브:LC>', '<체코:LC>', '<슬로바키아:LC>', '<벨기에:LC>', '<멕시코:LC>', '<오스트리아:LC>']\n",
      "['<몽골:LC>', '<오스트레일리아:LC>', '<필리핀:LC>', '<타이완:LC>', '<우즈베키스탄:LC>', '<네덜란드:LC>', '<헝가리:LC>']\n",
      "['<핀란드:LC>', '<캄보디아:LC>', '<카자흐스탄:LC>', '<칠레:LC>', '<피지:LC>', '<남아프리카공화국:LC>', '<이탈리아:LC>', '<스웨덴:LC>']\n",
      "['<미국:LC>', '<모로코:LC>', '<케냐:LC>', '<영국:LC>', '<아랍에미리트:LC>', '<괌:LC>', '<홍콩:LC>', '<이스라엘:LC>']\n",
      "['<인도네시아:LC>', '<말레이시아:LC>', '<네팔:LC>', '<독일:LC>', '<스위스:LC>', '<포르투갈:LC>', '<덴마크:LC>', '<스페인:LC>', '<중국:LC>']\n",
      "['<베이징:LC>', '<상하이:LC>', '<광저우:LC>', '<선양:LC>', '<칭다오:LC>', '<도쿄:LC>', '<후쿠오카:LC>', '<나고야:LC>', '<오사카:LC>', '<삿포로:LC>']\n",
      "['<방콕:LC>', '<푸켓:LC>', '<파타야:LC>', '<마닐라:LC>', '<세부:LC>', '<홍콩:LC>', '<하노이:LC>', '<호찌민:LC>', '<싱가포르:LC>', '<마카오:LC>']\n",
      "['<자카르타:LC>', '<발리:LC>', '<시엠레아프:LC>', '<쿠알라룸푸르:LC>', '<코타키나발루:LC>', '<타이베이:LC>', '<뭄바이:LC>', '<울란바토르:LC>']\n",
      "['<비엔티안:LC>', '<말레:LC>', '<카트만두:LC>', '<알마티:LC>', '<타슈켄트:LC>', '<뉴욕:LC>', '<로스앤젤레스:LC>', '<하와이:LC>', '<밴쿠버:LC>']\n",
      "['<멕시코시티:LC>', '<상파울루:LC>', '<산티아고:LC>', '<부에노스아이레스:LC>', '<시드니:LC>', '<멜버른:LC>']\n",
      "['<브리즈번:LC>', '<괌:LC>', '<사이판:LC>', '<오클랜드:LC>', '<코로르:LC>', '<난디:LC>', '<카이로:LC>']\n",
      "['<텔아비브:LC>', '<아부다비:LC>', '<두바이:LC>', '<케이프타운:LC>', '<라바트:LC>', '<나이로비:LC>', '<암만:LC>']\n",
      "['<프랑크푸르트:LC>', '<이스탄불:LC>', '<런던:LC>', '<모스크바:LC>', '<상트 페테르부르크:LC>', '<프라하:LC>', '<빈:LC>']\n",
      "['<취리히:LC>', '<제네바:LC>', '<로마:LC>', '<밀라노:LC>', '<베네치아:LC>', '<오슬로:LC>', '<리스본:LC>', '<브라티슬라바:LC>']\n",
      "['<암스테르담:LC>', '<파리:LC>', '<코펜하겐:LC>', '<브뤼셀:LC>', '<스톡홀름:LC>', '<부다페스트:LC>']\n",
      "['<헬싱키:LC>', '<아테네:LC>', '<마드리드:LC>', '<바르셀로나:LC>', '<그리스:LC>', '<북마리아나 제도 연방:LC>']\n"
     ]
    }
   ],
   "source": [
    "import codecs\n",
    "import os, sys, re, inspect\n",
    "\n",
    "\n",
    "# note that the json file format is from \n",
    "# - https://github.com/krikit/annie\n",
    "# - 2016년 한글 및 한국어 정보처리 학술대회 :  \"2016년 엑소브레인 V2.0 & 울산대학교 말뭉치\"라는 명칭의 CD로 배포\n",
    "#\n",
    "def convert(fn,NE_list):\n",
    "    \n",
    "    NE_parser=[]\n",
    "    def syntax_change(line,result):\n",
    "        for part in result:\n",
    "            text,tag = part[1:-1].split(':')\n",
    "            new_part = '<%s>%s</%s>'%(tag,text,tag)\n",
    "            line = line.replace(part,new_part)\n",
    "        return line\n",
    "        \n",
    "    def _filter(lines,tag):\n",
    "        filtered_sents = []\n",
    "        for line in lines:\n",
    "            line = line.strip()\n",
    "            word = re.compile('<[^>]*:%s>'%tag)\n",
    "            result = word.findall(line)\n",
    "            if result:\n",
    "                print(result)\n",
    "                line = syntax_change(line,result)\n",
    "                NE_parser.append(result)\n",
    "            filtered_sents.append(line)\n",
    "        return filtered_sents\n",
    "    \n",
    "    with open(fn, 'r', encoding='utf-8') as f: \n",
    "        lines = f.readlines()\n",
    "        for tag in NE_list:\n",
    "            lines = _filter(lines,tag)\n",
    "        out_fn = os.path.join(os.path.dirname(os.path.abspath(inspect.getfile(inspect.currentframe()))), 'countries.xml.txt') \n",
    "        with codecs.open(out_fn, 'w', encoding='utf-8') as f:\n",
    "            for line in lines:\n",
    "                print(line, file=f)\n",
    "\n",
    "    \n",
    "\n",
    "if __name__ == '__main__':\n",
    "    fn = 'countries.csv'\n",
    "    NE_list = ['AC','DT','LC','PU','PR','WT']\n",
    "    convert(fn,NE_list)\n"
   ]
  },
  {
   "cell_type": "code",
   "execution_count": 3,
   "metadata": {},
   "outputs": [
    {
     "name": "stdout",
     "output_type": "stream",
     "text": [
      "C:\\Users\\tjdwn\\GP_chatbot\\nlp\n",
      "N2N file dumped at trip.n2n.txt\n"
     ]
    }
   ],
   "source": [
    "\"\"\"\n",
    "    Convert XML like(<tag>~</tag>) text data to N2N data format\n",
    "\n",
    "    Author : Sangkeun Jung\n",
    "\"\"\"\n",
    "import os,sys, codecs\n",
    "\n",
    "# add common to path\n",
    "from pathlib import Path\n",
    "\n",
    "common_path = str(Path( os.path.abspath(\"__file__\") ).parent.parent.parent.parent)\n",
    "print(common_path)\n",
    "sys.path.append(common_path)\n",
    "\n",
    "from common.data_format.n2n import parse_a_line\n",
    "\n",
    "def convert(fn):\n",
    "    xml_fn = os.path.join( os.path.dirname(\"__file__\"), fn ) \n",
    "    to_fn  = os.path.join( os.path.dirname(\"__file__\"), 'trip.n2n.txt' ) \n",
    "\n",
    "    with codecs.open(to_fn, 'w', encoding='utf-8') as of:\n",
    "        with codecs.open(xml_fn, 'r', encoding='utf-8') as f:\n",
    "            for line in f: \n",
    "                line = line.rstrip('\\n\\r')\n",
    "\n",
    "                # convert xml like sentence to BIO tagged N2N format\n",
    "                raw, tags = parse_a_line(line)\n",
    "\n",
    "                for char, tag in zip(raw, tags):\n",
    "                    print(\"{}\\t{}\".format(char, tag), file=of)\n",
    "                print(\"-\"*50, file=of)\n",
    "            \n",
    "    print(\"N2N file dumped at {}\".format(to_fn))\n",
    "\n",
    "if __name__ == '__main__':\n",
    "    fn = 'trip.xml.txt'\n",
    "    convert(fn)"
   ]
  },
  {
   "cell_type": "code",
   "execution_count": null,
   "metadata": {},
   "outputs": [],
   "source": []
  },
  {
   "cell_type": "code",
   "execution_count": null,
   "metadata": {},
   "outputs": [],
   "source": []
  }
 ],
 "metadata": {
  "kernelspec": {
   "display_name": "Python 3",
   "language": "python",
   "name": "python3"
  },
  "language_info": {
   "codemirror_mode": {
    "name": "ipython",
    "version": 3
   },
   "file_extension": ".py",
   "mimetype": "text/x-python",
   "name": "python",
   "nbconvert_exporter": "python",
   "pygments_lexer": "ipython3",
   "version": "3.6.5"
  }
 },
 "nbformat": 4,
 "nbformat_minor": 2
}
