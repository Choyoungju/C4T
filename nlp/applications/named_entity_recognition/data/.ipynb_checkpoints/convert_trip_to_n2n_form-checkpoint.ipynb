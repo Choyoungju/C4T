{
 "cells": [
  {
   "cell_type": "code",
   "execution_count": 1,
   "metadata": {},
   "outputs": [
    {
     "ename": "FileNotFoundError",
     "evalue": "[Errno 2] No such file or directory: 'countries.csv'",
     "output_type": "error",
     "traceback": [
      "\u001b[1;31m---------------------------------------------------------------------------\u001b[0m",
      "\u001b[1;31mFileNotFoundError\u001b[0m                         Traceback (most recent call last)",
      "\u001b[1;32m<ipython-input-1-c06e97505d01>\u001b[0m in \u001b[0;36m<module>\u001b[1;34m()\u001b[0m\n\u001b[0;32m     44\u001b[0m     \u001b[0mfn\u001b[0m \u001b[1;33m=\u001b[0m \u001b[1;34m'countries.csv'\u001b[0m\u001b[1;33m\u001b[0m\u001b[0m\n\u001b[0;32m     45\u001b[0m     \u001b[0mNE_list\u001b[0m \u001b[1;33m=\u001b[0m \u001b[1;33m[\u001b[0m\u001b[1;34m'AC'\u001b[0m\u001b[1;33m,\u001b[0m\u001b[1;34m'DT'\u001b[0m\u001b[1;33m,\u001b[0m\u001b[1;34m'LC'\u001b[0m\u001b[1;33m,\u001b[0m\u001b[1;34m'PU'\u001b[0m\u001b[1;33m,\u001b[0m\u001b[1;34m'PR'\u001b[0m\u001b[1;33m,\u001b[0m\u001b[1;34m'WT'\u001b[0m\u001b[1;33m]\u001b[0m\u001b[1;33m\u001b[0m\u001b[0m\n\u001b[1;32m---> 46\u001b[1;33m     \u001b[0mconvert\u001b[0m\u001b[1;33m(\u001b[0m\u001b[0mfn\u001b[0m\u001b[1;33m,\u001b[0m\u001b[0mNE_list\u001b[0m\u001b[1;33m)\u001b[0m\u001b[1;33m\u001b[0m\u001b[0m\n\u001b[0m",
      "\u001b[1;32m<ipython-input-1-c06e97505d01>\u001b[0m in \u001b[0;36mconvert\u001b[1;34m(fn, NE_list)\u001b[0m\n\u001b[0;32m     30\u001b[0m         \u001b[1;32mreturn\u001b[0m \u001b[0mfiltered_sents\u001b[0m\u001b[1;33m\u001b[0m\u001b[0m\n\u001b[0;32m     31\u001b[0m \u001b[1;33m\u001b[0m\u001b[0m\n\u001b[1;32m---> 32\u001b[1;33m     \u001b[1;32mwith\u001b[0m \u001b[0mopen\u001b[0m\u001b[1;33m(\u001b[0m\u001b[0mfn\u001b[0m\u001b[1;33m,\u001b[0m \u001b[1;34m'r'\u001b[0m\u001b[1;33m,\u001b[0m \u001b[0mencoding\u001b[0m\u001b[1;33m=\u001b[0m\u001b[1;34m'utf-8'\u001b[0m\u001b[1;33m)\u001b[0m \u001b[1;32mas\u001b[0m \u001b[0mf\u001b[0m\u001b[1;33m:\u001b[0m\u001b[1;33m\u001b[0m\u001b[0m\n\u001b[0m\u001b[0;32m     33\u001b[0m         \u001b[0mlines\u001b[0m \u001b[1;33m=\u001b[0m \u001b[0mf\u001b[0m\u001b[1;33m.\u001b[0m\u001b[0mreadlines\u001b[0m\u001b[1;33m(\u001b[0m\u001b[1;33m)\u001b[0m\u001b[1;33m\u001b[0m\u001b[0m\n\u001b[0;32m     34\u001b[0m         \u001b[1;32mfor\u001b[0m \u001b[0mtag\u001b[0m \u001b[1;32min\u001b[0m \u001b[0mNE_list\u001b[0m\u001b[1;33m:\u001b[0m\u001b[1;33m\u001b[0m\u001b[0m\n",
      "\u001b[1;31mFileNotFoundError\u001b[0m: [Errno 2] No such file or directory: 'countries.csv'"
     ]
    }
   ],
   "source": [
    "import codecs\n",
    "import os, sys, re, inspect\n",
    "\n",
    "\n",
    "# note that the json file format is from \n",
    "# - https://github.com/krikit/annie\n",
    "# - 2016년 한글 및 한국어 정보처리 학술대회 :  \"2016년 엑소브레인 V2.0 & 울산대학교 말뭉치\"라는 명칭의 CD로 배포\n",
    "#\n",
    "def convert(fn,NE_list):\n",
    "    \n",
    "    NE_parser=[]\n",
    "    def syntax_change(line,result):\n",
    "        for part in result:\n",
    "            text,tag = part[1:-1].split(':')\n",
    "            new_part = '<%s>%s</%s>'%(tag,text,tag)\n",
    "            line = line.replace(part,new_part)\n",
    "        return line\n",
    "        \n",
    "    def _filter(lines,tag):\n",
    "        filtered_sents = []\n",
    "        for line in lines:\n",
    "            line = line.strip()\n",
    "            word = re.compile('<[^>]*:%s>'%tag)\n",
    "            result = word.findall(line)\n",
    "            if result:\n",
    "                print(result)\n",
    "                line = syntax_change(line,result)\n",
    "                NE_parser.append(result)\n",
    "            filtered_sents.append(line)\n",
    "        return filtered_sents\n",
    "    \n",
    "    with open(fn, 'r', encoding='utf-8') as f: \n",
    "        lines = f.readlines()\n",
    "        for tag in NE_list:\n",
    "            lines = _filter(lines,tag)\n",
    "        out_fn = os.path.join(os.path.dirname(os.path.abspath(inspect.getfile(inspect.currentframe()))), 'countries.xml.txt') \n",
    "        with codecs.open(out_fn, 'w', encoding='utf-8') as f:\n",
    "            for line in lines:\n",
    "                print(line, file=f)\n",
    "\n",
    "    \n",
    "\n",
    "if __name__ == '__main__':\n",
    "    fn = 'countries.csv'\n",
    "    NE_list = ['AC','DT','LC','PU','PR','WT']\n",
    "    convert(fn,NE_list)\n"
   ]
  },
  {
   "cell_type": "code",
   "execution_count": 2,
   "metadata": {},
   "outputs": [
    {
     "name": "stdout",
     "output_type": "stream",
     "text": [
      "C:\\Users\\tjdwn\\GP_chatbot\\nlp\n",
      "N2N file dumped at trip.n2n.txt\n"
     ]
    }
   ],
   "source": [
    "\"\"\"\n",
    "    Convert XML like(<tag>~</tag>) text data to N2N data format\n",
    "\n",
    "    Author : Sangkeun Jung\n",
    "\"\"\"\n",
    "import os,sys, codecs\n",
    "\n",
    "# add common to path\n",
    "from pathlib import Path\n",
    "\n",
    "common_path = str(Path( os.path.abspath(\"__file__\") ).parent.parent.parent.parent)\n",
    "print(common_path)\n",
    "sys.path.append(common_path)\n",
    "\n",
    "from common.data_format.n2n import parse_a_line\n",
    "\n",
    "def convert(fn):\n",
    "    xml_fn = os.path.join( os.path.dirname(\"__file__\"), fn ) \n",
    "    to_fn  = os.path.join( os.path.dirname(\"__file__\"), 'trip.n2n.txt' ) \n",
    "\n",
    "    with codecs.open(to_fn, 'w', encoding='utf-8') as of:\n",
    "        with codecs.open(xml_fn, 'r', encoding='utf-8') as f:\n",
    "            for line in f: \n",
    "                line = line.rstrip('\\n\\r')\n",
    "\n",
    "                # convert xml like sentence to BIO tagged N2N format\n",
    "                raw, tags = parse_a_line(line)\n",
    "\n",
    "                for char, tag in zip(raw, tags):\n",
    "                    print(\"{}\\t{}\".format(char, tag), file=of)\n",
    "                print(\"-\"*50, file=of)\n",
    "            \n",
    "    print(\"N2N file dumped at {}\".format(to_fn))\n",
    "\n",
    "if __name__ == '__main__':\n",
    "    fn = 'trip.xml.txt'\n",
    "    convert(fn)"
   ]
  },
  {
   "cell_type": "code",
   "execution_count": null,
   "metadata": {},
   "outputs": [],
   "source": []
  },
  {
   "cell_type": "code",
   "execution_count": null,
   "metadata": {},
   "outputs": [],
   "source": []
  }
 ],
 "metadata": {
  "kernelspec": {
   "display_name": "Python 3",
   "language": "python",
   "name": "python3"
  },
  "language_info": {
   "codemirror_mode": {
    "name": "ipython",
    "version": 3
   },
   "file_extension": ".py",
   "mimetype": "text/x-python",
   "name": "python",
   "nbconvert_exporter": "python",
   "pygments_lexer": "ipython3",
   "version": "3.6.5"
  }
 },
 "nbformat": 4,
 "nbformat_minor": 2
}
