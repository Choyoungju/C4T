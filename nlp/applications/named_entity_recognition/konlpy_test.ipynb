{
 "cells": [
  {
   "cell_type": "code",
   "execution_count": 1,
   "metadata": {
    "scrolled": false
   },
   "outputs": [],
   "source": [
    "import konlpy\n",
    "from konlpy.tag import Kkma\n",
    "import pandas as pd\n",
    "import csv"
   ]
  },
  {
   "cell_type": "code",
   "execution_count": 8,
   "metadata": {
    "scrolled": false
   },
   "outputs": [],
   "source": [
    "from konlpy.tag import Kkma\n",
    "wt_list = ['덥고','더운','더워서','더워','덥기만','시원한','시원해','시원','따뜻한','따뜻해','따뜻','추워','추운','춥고','춥지만']\n"
   ]
  },
  {
   "cell_type": "markdown",
   "metadata": {},
   "source": [
    "```javascript\n",
    "import pandas as pd\n",
    "import codecs\n",
    "\n",
    "df = pd.read_clipboard(engine='python',sep='\\n')\n",
    "df = df.drop_duplicates()\n",
    "df.to_csv('countries.csv',index=False)\n",
    "```"
   ]
  },
  {
   "cell_type": "markdown",
   "metadata": {},
   "source": [
    "```javascript\n",
    "new_lines = []\n",
    "with open('countries.csv',encoding='utf-8') as f:\n",
    "    lines = f.readlines()\n",
    "    for line in lines:\n",
    "        line = '<%s:LC>'%line.strip()\n",
    "        new_lines.append(line)\n",
    "with codecs.open('countries.csv','w',encoding='utf-8') as f:\n",
    "    for line in new_lines:\n",
    "        print(line,file=f)\n",
    "```"
   ]
  },
  {
   "cell_type": "code",
   "execution_count": null,
   "metadata": {},
   "outputs": [],
   "source": []
  }
 ],
 "metadata": {
  "kernelspec": {
   "display_name": "Python 3",
   "language": "python",
   "name": "python3"
  },
  "language_info": {
   "codemirror_mode": {
    "name": "ipython",
    "version": 3
   },
   "file_extension": ".py",
   "mimetype": "text/x-python",
   "name": "python",
   "nbconvert_exporter": "python",
   "pygments_lexer": "ipython3",
   "version": "3.6.5"
  }
 },
 "nbformat": 4,
 "nbformat_minor": 2
}
