{
 "cells": [
  {
   "cell_type": "code",
   "execution_count": 56,
   "metadata": {},
   "outputs": [],
   "source": [
    "class Question_Answering():\n",
    "    qc = 0\n",
    "    ans = ''\n",
    "    @classmethod\n",
    "    def __init__(cls,_dict):\n",
    "        cls.qc +=1\n",
    "        def is_enough(_dict):\n",
    "            rq_list = []\n",
    "            enough = False \n",
    "            for key in _dict.keys():\n",
    "                if len(_dict[key]) <= 0:\n",
    "                    rq_list.append(key)\n",
    "            if len(rq_list) == 0 : enough = True\n",
    "            else: enough = False\n",
    "            print(rq_list)\n",
    "            return enough,rq_list\n",
    "            \n",
    "        def recommendation(_dict):\n",
    "            return '가지마세요'\n",
    "        \n",
    "        def add_answer(tag_list):\n",
    "            return '말 좀 제대로 하세요'\n",
    "        \n",
    "        enough,rq_list = is_enough(_dict)\n",
    "        if enough or cls.qc >= 3:\n",
    "            cls.ans = recommendation(_dict)\n",
    "            cls.qc = 0\n",
    "        else:\n",
    "            cls.ans = add_answer(rq_list)\n",
    "    def get_ans(self):\n",
    "        return self.ans \n",
    "\n",
    "            \n",
    "        \n",
    "            "
   ]
  },
  {
   "cell_type": "code",
   "execution_count": 57,
   "metadata": {},
   "outputs": [
    {
     "name": "stdout",
     "output_type": "stream",
     "text": [
      "['PR', 'PU', 'WT', 'LC']\n",
      "말 좀 제대로 하세요\n"
     ]
    }
   ],
   "source": [
    "d1 = {'DT': [10, 11, 12], 'AC': ['가족'], 'PR': '', 'PU': [], 'WT': [], 'LC': []}\n",
    "d = {'1':True,'2':False}\n",
    "input1 = Question_Answering(d1)\n",
    "print(input1.get_ans())"
   ]
  },
  {
   "cell_type": "code",
   "execution_count": null,
   "metadata": {},
   "outputs": [],
   "source": []
  }
 ],
 "metadata": {
  "kernelspec": {
   "display_name": "Python 3",
   "language": "python",
   "name": "python3"
  },
  "language_info": {
   "codemirror_mode": {
    "name": "ipython",
    "version": 3
   },
   "file_extension": ".py",
   "mimetype": "text/x-python",
   "name": "python",
   "nbconvert_exporter": "python",
   "pygments_lexer": "ipython3",
   "version": "3.6.5"
  }
 },
 "nbformat": 4,
 "nbformat_minor": 2
}
