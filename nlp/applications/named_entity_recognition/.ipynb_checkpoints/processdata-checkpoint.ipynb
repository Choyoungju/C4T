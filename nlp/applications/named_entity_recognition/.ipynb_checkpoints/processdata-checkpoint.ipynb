{
 "cells": [
  {
   "cell_type": "code",
   "execution_count": 1,
   "metadata": {
    "scrolled": false
   },
   "outputs": [
    {
     "name": "stderr",
     "output_type": "stream",
     "text": [
      "C:\\Users\\tjdwn\\AppData\\Local\\Continuum\\anaconda3\\lib\\site-packages\\h5py\\__init__.py:36: FutureWarning: Conversion of the second argument of issubdtype from `float` to `np.floating` is deprecated. In future, it will be treated as `np.float64 == np.dtype(float).type`.\n",
      "  from ._conv import register_converters as _register_converters\n"
     ]
    },
    {
     "name": "stdout",
     "output_type": "stream",
     "text": [
      "Tensorflow Version :  1.10.0\n"
     ]
    }
   ],
   "source": [
    "from ner_model import predict\n",
    "from dataset import load_data\n",
    "from konlpy.tag import Kkma\n",
    "from collections import defaultdict"
   ]
  },
  {
   "cell_type": "code",
   "execution_count": 2,
   "metadata": {},
   "outputs": [
    {
     "name": "stdout",
     "output_type": "stream",
     "text": [
      "<common.nlp.data_loader.N2NTextData object at 0x000001A31724DE10>\n"
     ]
    }
   ],
   "source": [
    "train_id_data, token_vocab, target_vocab = load_data()\n",
    "num_vocabs       = token_vocab.get_num_tokens()\n",
    "num_target_class = target_vocab.get_num_targets()"
   ]
  },
  {
   "cell_type": "code",
   "execution_count": 25,
   "metadata": {},
   "outputs": [],
   "source": [
    "def sent_tag_dict(sent,tags):\n",
    "    tag_dict = defaultdict(lambda: set())\n",
    "    word=''\n",
    "    is_tag = False\n",
    "    for index in range(len(tags)) :\n",
    "        if tags[index] is not 'O':\n",
    "            word+=sent[index]\n",
    "            is_tag = True\n",
    "            continue\n",
    "        if is_tag:\n",
    "            if len(word) <= 1: word='';continue\n",
    "            tag_dict[tags[index-len(word)][-2:]].add(word)\n",
    "            is_tag = False\n",
    "            word=''\n",
    "    print(dict(tag_dict))\n",
    "    return dict(tag_dict)\n",
    "        \n",
    "    "
   ]
  },
  {
   "cell_type": "code",
   "execution_count": 26,
   "metadata": {},
   "outputs": [],
   "source": [
    "def sent_tagging(sent):\n",
    "    words = Kkma().pos(sent)\n",
    "    print(words)"
   ]
  },
  {
   "cell_type": "code",
   "execution_count": 27,
   "metadata": {
    "scrolled": true
   },
   "outputs": [
    {
     "name": "stdout",
     "output_type": "stream",
     "text": [
      "{'DT': {'3월초'}}\n",
      "{'DT': {'10월~12월 사'}, 'AC': {'부모님'}}\n",
      "{'DT': {'9월정도'}, 'AC': {'친구'}}\n",
      "{'AC': {'친구'}}\n",
      "{'DT': {'11월'}, 'PR': {'3박5일'}}\n",
      "{'LC': {'보라카'}}\n",
      "{'LC': {'방콕', '세부', '대만'}, 'PU': {'먹방'}}\n",
      "{'PU': {'다낭'}}\n",
      "{'PU': {'휴양', '힐링', '관광', '마사지'}}\n",
      "{'AC': {'어른셋'}}\n",
      "{'AC': {'아이', '어머니', '가족'}}\n",
      "{'PR': {'3박 4일'}, 'AC': {'아이', '어머니'}}\n",
      "{'PU': {'물놀이'}, 'LC': {'사이판'}, 'PR': {'4박5일', '3박4일'}}\n",
      "{'PU': {'휴양', '놀고', '바다', '수영장'}, 'WT': {'더운'}}\n",
      "{'AC': {'친구'}}\n",
      "{'AC': {'형편'}, 'PU': {'물가', '구경'}}\n",
      "{'DT': {'겨울'}}\n",
      "{}\n",
      "{'AC': {'아이', '초등', '가족'}}\n",
      "{'DT': {'여름'}, 'AC': {'가족'}}\n",
      "{'AC': {'가족'}}\n",
      "{}\n",
      "{'PU': {'항공'}, 'LC': {'일본', '동남아'}}\n",
      "{'PU': {'골프'}}\n",
      "{'PU': {'음식'}}\n",
      "{'AC': {'부모님'}, 'DT': {'9월'}, 'LC': {'코타', '세부', '다낭'}}\n",
      "{'AC': {'부모님'}, 'PU': {'힐링'}, 'PR': {'3박4일'}}\n",
      "{'PR': {'1년'}}\n",
      "{'DT': {'6월 17일'}, 'AC': {'가족'}}\n",
      "{'AC': {'유아', '성인 9명'}, 'DT': {'43'}}\n",
      "{'AC': {'가족'}}\n",
      "{'AC': {'장모님'}}\n",
      "{'PU': {'볼거리'}}\n",
      "{'AC': {'가족'}}\n",
      "{'DT': {'12월'}}\n",
      "{'LC': {'홍콩', '마카오', '티켓언', '세부', '보라카이', '일본'}, 'DT': {'12월'}}\n",
      "{'DT': {'여름'}, 'AC': {'여동생', '~엄마'}}\n",
      "{'AC': {'엄마'}}\n",
      "{'AC': {'여자셋'}}\n",
      "{'AC': {'친구'}}\n",
      "{'AC': {'형편'}, 'PU': {'물가', '구경'}}\n",
      "{'DT': {'겨울'}}\n",
      "{}\n",
      "{'AC': {'어머니'}}\n",
      "{'AC': {'여동생', '어머니'}}\n",
      "{'AC': {'어머니'}}\n",
      "{'LC': {'동남아', '태국', '시아'}}\n",
      "{}\n",
      "{'AC': {'혼자', '어머니'}}\n",
      "{'LC': {'루미큐브'}, 'PU': {'공항'}}\n",
      "{'AC': {'여자친구'}, 'PR': {'4박5일', '5박6일'}, 'PU': {'음식'}}\n",
      "{'AC': {'친구'}}\n",
      "{'DT': {'겨울'}, 'PR': {'200-'}}\n",
      "{'LC': {'도쿄', '일본오사카'}, 'DT': {'2월'}, 'PR': {'7박8일'}}\n",
      "{'LC': {'도쿄나', '일본', '오사카'}}\n",
      "{'AC': {'부모님'}}\n",
      "{'DT': {'11월'}, 'PR': {'5박-6박'}}\n",
      "{'PU': {'자연', '휴양', '트레킹'}}\n",
      "{'LC': {'스위스'}, 'PU': {'날씨'}}\n",
      "{'LC': {'캐나', '호주'}, 'PU': {'날씨'}}\n",
      "{'DT': {'12월'}, 'PR': {'7박8일'}}\n",
      "{'LC': {'유럽'}, 'PU': {'피킹'}}\n",
      "{'PR': {'7박8일'}, 'AC': {'혼자'}, 'PU': {'휴양'}}\n",
      "{'DT': {'12월'}}\n"
     ]
    }
   ],
   "source": [
    "with open('./data/result4.txt',encoding='utf8') as f:\n",
    "        lines = f.readlines()\n",
    "        for line in lines:\n",
    "            sent, targets = predict(token_vocab, target_vocab,line)\n",
    "            sent_tag_dict(sent,targets)"
   ]
  },
  {
   "cell_type": "code",
   "execution_count": 15,
   "metadata": {},
   "outputs": [
    {
     "name": "stdout",
     "output_type": "stream",
     "text": [
      "[('3', 'NR'), ('일', 'NNM'), ('부터', 'JX'), ('5', 'NR'), ('일', 'NNM'), ('까지', 'JX')]\n"
     ]
    }
   ],
   "source": [
    "from konlpy.tag import Kkma\n",
    "\n",
    "sent = '3일 부터 5일 까지'\n",
    "words = Kkma().pos(sent)\n",
    "print(words)"
   ]
  },
  {
   "cell_type": "code",
   "execution_count": null,
   "metadata": {},
   "outputs": [],
   "source": []
  }
 ],
 "metadata": {
  "kernelspec": {
   "display_name": "Python 3",
   "language": "python",
   "name": "python3"
  },
  "language_info": {
   "codemirror_mode": {
    "name": "ipython",
    "version": 3
   },
   "file_extension": ".py",
   "mimetype": "text/x-python",
   "name": "python",
   "nbconvert_exporter": "python",
   "pygments_lexer": "ipython3",
   "version": "3.6.5"
  }
 },
 "nbformat": 4,
 "nbformat_minor": 2
}
