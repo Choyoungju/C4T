{
 "cells": [
  {
   "cell_type": "code",
   "execution_count": 1,
   "metadata": {
    "scrolled": false
   },
   "outputs": [],
   "source": [
    "import konlpy\n",
    "from konlpy.tag import Kkma\n",
    "import pandas as pd\n",
    "import csv"
   ]
  },
  {
   "cell_type": "code",
   "execution_count": 2,
   "metadata": {
    "scrolled": false
   },
   "outputs": [
    {
     "name": "stdout",
     "output_type": "stream",
     "text": [
      "[('먹', 'VV'), ('고', 'ECE'), ('먹', 'VV'), ('으러', 'ECD'), ('먹', 'VV'), ('는', 'ETD'), ('거', 'NNB'), ('먹거리', 'NNG'), ('쉬', 'VV'), ('면', 'ECE'), ('쉼', 'NNG'), ('맛있', 'VA'), ('는', 'ETD'), ('보기', 'NNG'), ('좋', 'VA'), ('은', 'ETD'), ('전망', 'NNG'), ('좋', 'VA'), ('은', 'ETD'), ('놀', 'VV'), ('기', 'ETN'), ('좋', 'VA'), ('은', 'ETD'), ('놀', 'VV'), ('ㄹ', 'ETD'), ('거리', 'NNG')]\n"
     ]
    }
   ],
   "source": [
    "from konlpy.tag import Kkma\n",
    "\n",
    "sent = '먹고 먹으러 먹는거 먹거리 쉬면 쉼 맛있는 보기좋은 전망좋은 놀기좋은 놀거리'\n",
    "words = Kkma().pos(sent)\n",
    "print(words)"
   ]
  },
  {
   "cell_type": "markdown",
   "metadata": {},
   "source": [
    "import pandas as pd\n",
    "import codecs\n",
    "\n",
    "df = pd.read_clipboard(engine='python',sep='\\n')\n",
    "df = df.drop_duplicates()\n",
    "df.to_csv('countries.csv',index=False)"
   ]
  },
  {
   "cell_type": "markdown",
   "metadata": {},
   "source": [
    "new_lines = []\n",
    "with open('countries.csv',encoding='utf-8') as f:\n",
    "    lines = f.readlines()\n",
    "    for line in lines:\n",
    "        line = '<%s:LC>'%line.strip()\n",
    "        new_lines.append(line)\n",
    "with codecs.open('countries.csv','w',encoding='utf-8') as f:\n",
    "    for line in new_lines:\n",
    "        print(line,file=f)"
   ]
  },
  {
   "cell_type": "code",
   "execution_count": null,
   "metadata": {},
   "outputs": [],
   "source": []
  }
 ],
 "metadata": {
  "kernelspec": {
   "display_name": "Python 3",
   "language": "python",
   "name": "python3"
  },
  "language_info": {
   "codemirror_mode": {
    "name": "ipython",
    "version": 3
   },
   "file_extension": ".py",
   "mimetype": "text/x-python",
   "name": "python",
   "nbconvert_exporter": "python",
   "pygments_lexer": "ipython3",
   "version": "3.6.5"
  }
 },
 "nbformat": 4,
 "nbformat_minor": 2
}
