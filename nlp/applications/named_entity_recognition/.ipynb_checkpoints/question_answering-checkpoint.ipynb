{
 "cells": [
  {
   "cell_type": "code",
   "execution_count": 1,
   "metadata": {},
   "outputs": [],
   "source": [
    "import random\n",
    "\n",
    "class Question_Answering():\n",
    "    qc = 0\n",
    "    ans = ''\n",
    "    @classmethod\n",
    "    def __init__(cls,_dict):\n",
    "        cls.qc +=1\n",
    "        def is_enough(_dict):\n",
    "            del _dict['LC']\n",
    "            rq_list = []\n",
    "            enough = False \n",
    "            for key in _dict.keys():\n",
    "                if len(_dict[key]) <= 0:\n",
    "                    rq_list.append(key)\n",
    "            if len(rq_list) == 0 : enough = True\n",
    "            else: enough = False\n",
    "            print(rq_list)\n",
    "            return enough,rq_list\n",
    "            \n",
    "        def recommendation(_dict):\n",
    "            return '가지마세요'\n",
    "        \n",
    "        def add_answer(tag_list):\n",
    "            answer=''\n",
    "            dial_dict = {\n",
    "                'AC':['누구랑 가세요?','혹시 동행이 있나요?','일행은 누구에요?'],\n",
    "                'PR':['얼마 동안 가시게요?','며칠 가실 거에요?','몇 박 몇 일로 가실 거에요?'],\n",
    "                'PU':['여행가서 어떤거 하고 싶으세요?','여행가서 하고 싶은 거 있어요?','여행가면 뭐하고 싶으세요?'],\n",
    "                'DT':['언제 쯤 가세요?','몇 월에 가세요?','언제 가시는데요?'],\n",
    "                'WT':['날씨가 따뜻했으면 좋겠어요, 시원했으면 좋겠어요?','어떤 날씨가 좋으세요?','날씨는 어땠으면 좋겠어요?'],\n",
    "                'MA':[' 그리고 ',' 또 ']\n",
    "            }\n",
    "            if len(tag_list) > 2:\n",
    "                answer = dial_dict[tag_list[0]][random.randint(0,2)]+dial_dict['MA'][random.randint(0,1)]\\\n",
    "                                    +dial_dict[tag_list[1]][random.randint(0,2)]\n",
    "            else:\n",
    "                answer = dial_dict[tag_list[0]][random.randint(0,2)]\n",
    "                \n",
    "            return answer\n",
    "        \n",
    "        enough,rq_list = is_enough(_dict)\n",
    "        if enough or cls.qc >= 3:#질문수가 3번 이상이 되면 지금 갖고 있는 걸로 추천\n",
    "            cls.ans = recommendation(_dict)\n",
    "            cls.qc = 0\n",
    "        else:\n",
    "            cls.ans = add_answer(rq_list)\n",
    "    def get_ans(self):\n",
    "        return self.ans \n",
    "\n",
    "            \n",
    "        \n",
    "            "
   ]
  },
  {
   "cell_type": "code",
   "execution_count": 6,
   "metadata": {
    "scrolled": true
   },
   "outputs": [
    {
     "name": "stdout",
     "output_type": "stream",
     "text": [
      "['PU', 'WT']\n",
      "가지마세요\n"
     ]
    }
   ],
   "source": [
    "if __name__ == '__main__':\n",
    "    d1 = {'DT': [10, 11, 12], 'AC': ['가족'], 'PR': 'a', 'PU': [], 'WT': [], 'LC': []}\n",
    "    input1 = Question_Answering(d1)\n",
    "    print(input1.get_ans())"
   ]
  },
  {
   "cell_type": "code",
   "execution_count": null,
   "metadata": {},
   "outputs": [],
   "source": []
  }
 ],
 "metadata": {
  "kernelspec": {
   "display_name": "Python 3",
   "language": "python",
   "name": "python3"
  },
  "language_info": {
   "codemirror_mode": {
    "name": "ipython",
    "version": 3
   },
   "file_extension": ".py",
   "mimetype": "text/x-python",
   "name": "python",
   "nbconvert_exporter": "python",
   "pygments_lexer": "ipython3",
   "version": "3.6.5"
  }
 },
 "nbformat": 4,
 "nbformat_minor": 2
}
