{
 "cells": [
  {
   "cell_type": "code",
   "execution_count": 10,
   "metadata": {},
   "outputs": [],
   "source": [
    "import random\n",
    "\n",
    "def answering(_dict):\n",
    "        del _dict['LC']\n",
    "        rq_list = []\n",
    "        is_enough = False \n",
    "        for key in _dict.keys():\n",
    "            if len(_dict[key]) <= 0:\n",
    "                rq_list.append(key)\n",
    "        if len(rq_list) == 0 : is_enough = True\n",
    "        else: is_enough = False\n",
    "            \n",
    "        rq_list_len = len(rq_list)\n",
    "            \n",
    "        answer=''\n",
    "        dial_dict = {\n",
    "            'AC':['누구랑 가세요?','혹시 동행이 있나요?','일행은 누구에요?'],\n",
    "            'PR':['얼마 동안 가시게요?','며칠 가실 거에요?','몇 박 몇 일로 가실 거에요?'],\n",
    "            'PU':['여행가서 어떤거 하고 싶으세요?','여행가서 하고 싶은 거 있어요?','여행가면 뭐하고 싶으세요?'],\n",
    "            'DT':['언제 쯤 가세요?','몇 월에 가세요?','언제 가시는데요?'],\n",
    "            'WT':['날씨가 따뜻했으면 좋겠어요, 시원했으면 좋겠어요?','어떤 날씨가 좋으세요?','날씨는 어땠으면 좋겠어요?'],\n",
    "            'MA':[' 그리고 ',' 또 ']\n",
    "        }\n",
    "            \n",
    "        if rq_list_len > 2:\n",
    "            answer = dial_dict[rq_list[0]][random.randint(0,2)]+dial_dict['MA'][random.randint(0,1)]\\\n",
    "                                +dial_dict[rq_list[1]][random.randint(0,2)]\n",
    "        elif rq_list_len == 1:\n",
    "            answer = dial_dict[rq_list[0]][random.randint(0,2)]\n",
    "                \n",
    "        return is_enough,answer\n",
    "        "
   ]
  },
  {
   "cell_type": "code",
   "execution_count": 11,
   "metadata": {
    "scrolled": true
   },
   "outputs": [
    {
     "name": "stdout",
     "output_type": "stream",
     "text": [
      "(False, '며칠 가실 거에요? 또 여행가서 어떤거 하고 싶으세요?')\n"
     ]
    }
   ],
   "source": [
    "if __name__ == '__main__':\n",
    "    d1 = {'DT': [10, 11, 12], 'AC': ['가족'], 'PR': '', 'PU': [], 'WT': [], 'LC': []}\n",
    "    input1 = answering(d1)\n",
    "    print(input1)"
   ]
  },
  {
   "cell_type": "code",
   "execution_count": null,
   "metadata": {},
   "outputs": [],
   "source": []
  }
 ],
 "metadata": {
  "kernelspec": {
   "display_name": "Python 3",
   "language": "python",
   "name": "python3"
  },
  "language_info": {
   "codemirror_mode": {
    "name": "ipython",
    "version": 3
   },
   "file_extension": ".py",
   "mimetype": "text/x-python",
   "name": "python",
   "nbconvert_exporter": "python",
   "pygments_lexer": "ipython3",
   "version": "3.6.5"
  }
 },
 "nbformat": 4,
 "nbformat_minor": 2
}
