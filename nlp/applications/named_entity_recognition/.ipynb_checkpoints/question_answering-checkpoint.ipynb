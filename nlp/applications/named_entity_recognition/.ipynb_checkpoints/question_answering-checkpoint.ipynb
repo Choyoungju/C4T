{
 "cells": [
  {
   "cell_type": "code",
   "execution_count": 1,
   "metadata": {},
   "outputs": [
    {
     "name": "stderr",
     "output_type": "stream",
     "text": [
      "C:\\Users\\tjdwn\\AppData\\Local\\Continuum\\anaconda3\\lib\\site-packages\\h5py\\__init__.py:36: FutureWarning: Conversion of the second argument of issubdtype from `float` to `np.floating` is deprecated. In future, it will be treated as `np.float64 == np.dtype(float).type`.\n",
      "  from ._conv import register_converters as _register_converters\n"
     ]
    },
    {
     "name": "stdout",
     "output_type": "stream",
     "text": [
      "Tensorflow Version :  1.10.0\n"
     ]
    }
   ],
   "source": [
    "from NLP_dial import Tag_Mapper\n",
    "from dataset import load_data"
   ]
  },
  {
   "cell_type": "code",
   "execution_count": 2,
   "metadata": {},
   "outputs": [
    {
     "name": "stdout",
     "output_type": "stream",
     "text": [
      "{'PR': '단기', 'AC': ['엄마'], 'LC': ['필리핀'], 'WT': ['따뜻'], 'DT': [8], 'PU': []}\n"
     ]
    }
   ],
   "source": [
    "train_id_data, token_vocab, target_vocab = load_data()\n",
    "mapp = Tag_Mapper(token_vocab,target_vocab,'3박4일 엄마랑 보라카이로 따뜻한 곳으로 8월에 휴가갈거야')\n",
    "print(dict(mapp.get_dict()))"
   ]
  },
  {
   "cell_type": "code",
   "execution_count": null,
   "metadata": {},
   "outputs": [],
   "source": []
  }
 ],
 "metadata": {
  "kernelspec": {
   "display_name": "Python 3",
   "language": "python",
   "name": "python3"
  },
  "language_info": {
   "codemirror_mode": {
    "name": "ipython",
    "version": 3
   },
   "file_extension": ".py",
   "mimetype": "text/x-python",
   "name": "python",
   "nbconvert_exporter": "python",
   "pygments_lexer": "ipython3",
   "version": "3.6.5"
  }
 },
 "nbformat": 4,
 "nbformat_minor": 2
}
