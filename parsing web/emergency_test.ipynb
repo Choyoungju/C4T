{
 "cells": [
  {
   "cell_type": "code",
   "execution_count": 70,
   "metadata": {},
   "outputs": [
    {
     "name": "stdout",
     "output_type": "stream",
     "text": [
      "http://apis.data.go.kr/1262000/ContactService/getContactList?serviceKey=24C%2FxddyRCTiVMSQN7xGhrvODlbKHfrGG%2Bg4ryyKXO8GGVjexQKYpkSH7PHU6MamZZ9qa07Dq9h25bAohPX3Jg%3D%3D&isoCode1=NAM\n",
      "<OpenAPI_ServiceResponse>\n",
      "\t<cmmMsgHeader>\n",
      "\t\t<errMsg>SERVICE ERROR</errMsg>\n",
      "\t\t<returnAuthMsg>HTTP_ERROR</returnAuthMsg>\n",
      "\t\t<returnReasonCode>04</returnReasonCode>\n",
      "\t</cmmMsgHeader>\n",
      "</OpenAPI_ServiceResponse>\n"
     ]
    }
   ],
   "source": [
    "# coding: utf-8\n",
    "import pandas\n",
    "import requests\n",
    "import csv\n",
    "import json\n",
    "import xmltodict\n",
    "import re\n",
    "from collections import OrderedDict\n",
    "\n",
    "url = \"http://apis.data.go.kr/1262000/ContactService/getContactList\"\n",
    "sKey = '24C%2FxddyRCTiVMSQN7xGhrvODlbKHfrGG%2Bg4ryyKXO8GGVjexQKYpkSH7PHU6MamZZ9qa07Dq9h25bAohPX3Jg%3D%3D'\n",
    "\n",
    "code_list = []\n",
    "with open(\"isoCode.csv\", 'r') as f:\n",
    "    csvreader = csv.reader(f)\n",
    "    for row in csvreader:\n",
    "        code = row[0].split(',')\n",
    "        code_list.append(code[0])\n",
    "\n",
    "code_list = code_list[1:]\n",
    "p = re.compile('<.*>')\n",
    "p = re.compile('&nbsp;*')\n",
    "\n",
    "payload = {'serviceKey': sKey,'isoCode1':code_list[13]}\n",
    "payload_str = \"&\".join(\"%s=%s\" % (k,v) for k,v in payload.items())\n",
    "\n",
    "resp = requests.get(url,params = payload_str)\n",
    "print(resp.url)\n",
    "xmlString = resp.text\n",
    "print(xmlString)\n",
    "dt1 = xmltodict.parse(xmlString,encoding= 'utf-8')\n",
    "if dt1.get('response'):\n",
    "    if dt1['response']['body']['items']:\n",
    "        dt2 = dt1['response']['body']['items']['item']\n",
    "        info = dt2['contact']\n",
    "        info = p.sub('',info)\n",
    "        infoes = info.split('ㅇ ')\n",
    "        for data in infoes:\n",
    "            data = data.strip()\n",
    "            if '<br>' in data:\n",
    "                data = data[:-4]\n",
    "            data = data.split(':')\n",
    "            if len(data) is 2:\n",
    "                dt2[data[0]]=data[1]\n",
    "        del dt2['contact']\n",
    "        jsonString = json.dumps(dt2, indent=2, ensure_ascii=False)\n",
    "\n",
    "        with open(\"emergency_contact.txt\", 'w',encoding='utf-8') as f:\n",
    "            f.write(jsonString)\n",
    "\n"
   ]
  },
  {
   "cell_type": "markdown",
   "metadata": {},
   "source": [
    "<h3 class=\"tit\">긴급 연락처</h3>ㅇ 전국 범죄 신고 10111(빈툭시내 전용은 304)<br>\n",
    "ㅇ 화재신고, 응급의료 211111<br>\n",
    "<br>\n",
    "\n",
    "<h3 class=\"tit\">관광통역 서비스</h3>ㅇ 관광경찰 10111<br>\n",
    "(범죄 신고 번화와 같으며, 관광객이라고 밝히면 관광객을 위한 경찰 파트로 연결해줌)<br>\n",
    "<br>\n",
    "ㅇ 관광통역 전화 서비스는 없습니다.<br>\n",
    "<br>\n",
    "\n",
    "<h3 class=\"tit\">의료기관 연락처</h3>ㅇ 주요 병원(병실 200석 이상)<br>\n",
    "&nbsp;&nbsp;&nbsp;&nbsp; - 빈툭(Windhoek) 지역 : 빈툭 중앙병원(Windhoek Central), 빈툭 카투투라병원(Windhoek Katutura), 로버트무가베 (Robert Mugabe) 병원, 돈커후크(Donkerhoek) 병원<br>\n",
    "&nbsp;&nbsp;&nbsp;&nbsp; - 카티마물리로(Katima Mulilo) 지역 : 카티마물리로병원, 바투바자(Batubaja) 병원<br>\n",
    "&nbsp;&nbsp;&nbsp;&nbsp; - 난쿤두(Nankundu) 지역 : 카루하(Gcaruha) 병원<br>\n",
    "&nbsp;&nbsp;&nbsp;&nbsp; - 룬두(Rundu) 지역 : 룬두병원, 콰징가(Gcwatjinga) 병원<br>\n",
    "&nbsp;&nbsp;&nbsp;&nbsp; - 엔젤라(Engela) 지역 : 엔젤라병원, 에둔자(Edundja) 병원<br>\n",
    "&nbsp;&nbsp;&nbsp;&nbsp; - 오시쿠쿠(Oshikuku) 지역 : 오시쿠쿠병원, 오공고(Ogongo) 병원<br>\n",
    "&nbsp;&nbsp;&nbsp;&nbsp; - 오샤카티(Oshakati) 지역 : 오샤카티병원, 옴푼자(Ompundja) 병원<br>\n",
    "&nbsp;&nbsp;&nbsp;&nbsp; - 오난조퀴(Onandjokwe) 지역 : 오난조퀴병원, 은다모나(Ndamona) 병원<br>\n",
    "<br>\n",
    "\n",
    "<h3 class=\"tit\">대사관 연락처</h3><p>※ 나미비아에는 우리대사관이 없으며, 주앙골라한국대사관이 겸임하고 있습니다.&nbsp;&nbsp;</p><p>ㅇ 주소 : Centro de Convencoes Talatona(chalet A101), Luanda-Sul, Angola<br>\n",
    "ㅇ 대표번호 :&nbsp;+244-222-006-067~068<br>ㅇ 긴급연락처: +244-929-212-880<br>\n",
    "ㅇ Fax : +244-222-006-066<br>\n",
    "ㅇ E-mail : <a href=\"mailto:korembassy_angola@mofa.go.kr\">korembassy_angola@mofa.go.kr</a></p>"
   ]
  },
  {
   "cell_type": "code",
   "execution_count": 52,
   "metadata": {
    "scrolled": true
   },
   "outputs": [
    {
     "name": "stdout",
     "output_type": "stream",
     "text": [
      "{\n",
      "  \"continent\": \"중동/아프리카\",\n",
      "  \"countryEnName\": \"Guinea\",\n",
      "  \"countryName\": \"기니\",\n",
      "  \"id\": \"13\",\n",
      "  \"imgUrl\": \"http://www.0404.go.kr/dev/fileDownload.mofa?atch_file_id=COUNTRY_13&file_sn=1\",\n",
      "  \"imgUrl2\": \"http://www.0404.go.kr/dev/fileDownload.mofa?atch_file_id=COUNTRY_13&file_sn=3\",\n",
      "  \"wrtDt\": \"2011-01-28\",\n",
      "  \"경찰 신고(Police Seours) \": \" (+224) 1\",\n",
      "  \"헌병 신고(Gendarmerie) \": \" (+224) 122 (수신자 부담, 2012년부터 기니 전 지역에서 이용 가능) \",\n",
      "  \"화재 신고 \": \" (+224) 18 또는 630 45 41 14<br>\\r\\n<br>\\r\\n\\r\\n<h3 class=\\\"tit\\\">대사관 연락처</h3>※ 기니에는 우리대사관이 없으며, 주세네갈한국대사관이 겸임하고 있습니다.\",\n",
      "  \"주소 \": \" Ambassade de la Republique de Coree, Villa Hamoudy, Rue Aim Csaire, Fann Rsidence, B.P.5850, Dakar, Sngal\",\n",
      "  \"대표번호 \": \" (+221) 33-824-0672\",\n",
      "  \"긴급 연락처 \": \" (+221) 78-184-5554\",\n",
      "  \"팩스번호 \": \" (+221) 33 824 0695\",\n",
      "  \"근무시간 \": \" 월~금 오전 8시~12시, 오후 2시~4시</div>\"\n",
      "}\n"
     ]
    }
   ],
   "source": [
    "with open(\"emergency_contact.txt\",'r',encoding='utf-8') as f:\n",
    "     lines = f.read();\n",
    "print(lines)"
   ]
  }
 ],
 "metadata": {
  "kernelspec": {
   "display_name": "Python 3",
   "language": "python",
   "name": "python3"
  }
 },
 "nbformat": 4,
 "nbformat_minor": 2
}
