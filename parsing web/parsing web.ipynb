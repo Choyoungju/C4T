{
 "cells": [
  {
   "cell_type": "code",
   "execution_count": null,
   "metadata": {},
   "outputs": [],
   "source": [
    "import pandas\n",
    "import requests\n",
    "import csv\n",
    "import json\n",
    "import xmltodict\n",
    "\n",
    "\n",
    "url = \"http://apis.data.go.kr/1262000/CountryBasicService/getCountryBasicList\"\n",
    "\n",
    "code_list = []\n",
    "with open(\"isoCode.csv\", 'r') as f:\n",
    "    csvreader = csv.reader(f)\n",
    "    for row in csvreader:\n",
    "        code = row[0].split(',')\n",
    "        code_list.append(code[0])\n",
    "\n",
    "code_list = code_list[1:]\n",
    "\n",
    "for n in range(len(code_list)):\n",
    "    payload = {'serviceKey': '24C%2FxddyRCTiVMSQN7xGhrvODlbKHfrGG%2Bg4ryyKXO8GGVjexQKYpkSH7PHU6MamZZ9qa07Dq9h25bAohPX3Jg%3D%3D','isoCode1':code_list[n]}\n",
    "    payload_str = \"&\".join(\"%s=%s\" % (k,v) for k,v in payload.items())\n",
    "\n",
    "    resp = requests.get(url,params = payload_str)\n",
    "\n",
    "    xmlString = resp.text\n",
    "     \n",
    "    jsonString = json.dumps(xmltodict.parse(xmlString,encoding= 'utf-8'), indent=2, ensure_ascii=False)\n",
    " \n",
    "    with open(\"output2.json\", 'a',encoding='utf-8') as f:\n",
    "        f.write(jsonString)\n"
   ]
  },
  {
   "cell_type": "code",
   "execution_count": null,
   "metadata": {},
   "outputs": [],
   "source": [
    "#-*- coding: utf-8 -*-\n",
    "import json\n",
    "import xmltodict\n",
    " \n",
    "xmlString = resp.text\n",
    "     \n",
    "jsonString = json.dumps(xmltodict.parse(xmlString,encoding= 'utf-8'), indent=2,ensure_ascii=False)\n",
    "\n",
    "print(jsonString)\n",
    " \n",
    "with open(\"output2.json\", 'w',encoding='utf-8') as f:\n",
    "    f.write(jsonString)"
   ]
  },
  {
   "cell_type": "code",
   "execution_count": null,
   "metadata": {},
   "outputs": [],
   "source": []
  }
 ],
 "metadata": {
  "kernelspec": {
   "display_name": "Python 3",
   "language": "python",
   "name": "python3"
  },
  "language_info": {
   "codemirror_mode": {
    "name": "ipython",
    "version": 3
   },
   "file_extension": ".py",
   "mimetype": "text/x-python",
   "name": "python",
   "nbconvert_exporter": "python",
   "pygments_lexer": "ipython3",
   "version": "3.6.4"
  }
 },
 "nbformat": 4,
 "nbformat_minor": 2
}
