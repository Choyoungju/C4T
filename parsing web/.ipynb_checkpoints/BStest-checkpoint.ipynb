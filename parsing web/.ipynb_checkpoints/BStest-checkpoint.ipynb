{
 "cells": [
  {
   "cell_type": "code",
   "execution_count": 97,
   "metadata": {},
   "outputs": [],
   "source": [
    "# coding: utf-8\n",
    "import pandas\n",
    "import requests\n",
    "import csv\n",
    "import json\n",
    "import xmltodict\n",
    "from collections import OrderedDict\n",
    "\n",
    "url = \"http://apis.data.go.kr/1262000/CountryBasicService/getCountryBasicList\"\n",
    "sKey = \"24C%2FxddyRCTiVMSQN7xGhrvODlbKHfrGG%2Bg4ryyKXO8GGVjexQKYpkSH7PHU6MamZZ9qa07Dq9h25bAohPX3Jg%3D%3D\"\n",
    "\n",
    "code_list = []\n",
    "with open(\"isoCode.csv\", 'r') as f:\n",
    "    csvreader = csv.reader(f)\n",
    "    for row in csvreader:\n",
    "        code = row[0].split(',')\n",
    "        code_list.append(code[0])\n",
    "\n",
    "code_list = code_list[1:]\n",
    "\n",
    "\n",
    "payload = {'serviceKey': sKey ,'isoCode1':code_list[4]}\n",
    "payload_str = \"&\".join(\"%s=%s\" % (k,v) for k,v in payload.items())\n",
    "\n",
    "resp = requests.get(url,params = payload_str)\n",
    "xmlString = resp.text     \n",
    "#print(xmlString)\n",
    "dt1 = xmltodict.parse(xmlString,encoding= 'utf-8')\n",
    "if dt1['response']['body']['items']:\n",
    "        dt2 = dt1['response']['body']['items']['item']\n",
    "        info = dt2['basic'][7:-6]\n",
    "        infoes = info.split('ㅇ ')\n",
    "        for data in infoes:\n",
    "            data = data.strip()\n",
    "            if '<br>' in data:\n",
    "                data = data[:-4]\n",
    "            data = data.split(':')\n",
    "            if len(data) is 2:\n",
    "                dt2[data[0]]=data[1]\n",
    "        del dt2['basic']\n",
    "    \n",
    "        jsonString = json.dumps(dt2, indent=2, ensure_ascii=False)\n",
    " \n",
    "        with open(\"BStest.txt\", 'a',encoding='utf-8') as f:\n",
    "            f.write(jsonString)\n"
   ]
  },
  {
   "cell_type": "code",
   "execution_count": 98,
   "metadata": {},
   "outputs": [
    {
     "name": "stdout",
     "output_type": "stream",
     "text": [
      "{\n",
      "  \"continent\": \"중동/아프리카\",\n",
      "  \"countryEnName\": \"Gambia\",\n",
      "  \"countryName\": \"감비아\",\n",
      "  \"id\": \"5\",\n",
      "  \"imgUrl\": \"http://www.0404.go.kr/imgsrc.mofa?atch_file_id=COUNTRY_5&file_sn=1\",\n",
      "  \"wrtDt\": \"2011-01-31\",\n",
      "  \"수도 \": \" 반줄(Banjul)\",\n",
      "  \"인구 \": \" 197만 명('15.7)\",\n",
      "  \"면적 \": \" 11,295㎢(한반도의 1/20)\",\n",
      "  \"민족 \": \" Mandinka, Peul, Wolof 등\",\n",
      "  \"종교 \": \" 회교(90%), 기독교(9%) 등\",\n",
      "  \"언어 \": \" 영어(공용어), Wolof 어&nbsp;\"\n",
      "}\n"
     ]
    }
   ],
   "source": [
    "with open(\"BStest.txt\",'r',encoding='utf-8') as f:\n",
    "     lines = f.read();\n",
    "print(lines)"
   ]
  },
  {
   "cell_type": "code",
   "execution_count": null,
   "metadata": {},
   "outputs": [],
   "source": []
  }
 ],
 "metadata": {
  "kernelspec": {
   "display_name": "Python 3",
   "language": "python",
   "name": "python3"
  },
  "language_info": {
   "codemirror_mode": {
    "name": "ipython",
    "version": 3
   },
   "file_extension": ".py",
   "mimetype": "text/x-python",
   "name": "python",
   "nbconvert_exporter": "python",
   "pygments_lexer": "ipython3",
   "version": "3.6.4"
  }
 },
 "nbformat": 4,
 "nbformat_minor": 2
}
