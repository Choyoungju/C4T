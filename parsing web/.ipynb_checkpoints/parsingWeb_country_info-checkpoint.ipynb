{
 "cells": [
  {
   "cell_type": "code",
   "execution_count": 5,
   "metadata": {},
   "outputs": [
    {
     "ename": "KeyError",
     "evalue": "'response'",
     "output_type": "error",
     "traceback": [
      "\u001b[1;31m---------------------------------------------------------------------------\u001b[0m",
      "\u001b[1;31mKeyError\u001b[0m                                  Traceback (most recent call last)",
      "\u001b[1;32m<ipython-input-5-28c09bbe614e>\u001b[0m in \u001b[0;36m<module>\u001b[1;34m()\u001b[0m\n\u001b[0;32m     34\u001b[0m     \u001b[0mxmlString\u001b[0m \u001b[1;33m=\u001b[0m \u001b[0mresp\u001b[0m\u001b[1;33m.\u001b[0m\u001b[0mtext\u001b[0m\u001b[1;33m\u001b[0m\u001b[0m\n\u001b[0;32m     35\u001b[0m     \u001b[0mdt1\u001b[0m \u001b[1;33m=\u001b[0m \u001b[0mxmltodict\u001b[0m\u001b[1;33m.\u001b[0m\u001b[0mparse\u001b[0m\u001b[1;33m(\u001b[0m\u001b[0mxmlString\u001b[0m\u001b[1;33m,\u001b[0m\u001b[0mencoding\u001b[0m\u001b[1;33m=\u001b[0m \u001b[1;34m'utf-8'\u001b[0m\u001b[1;33m)\u001b[0m\u001b[1;33m\u001b[0m\u001b[0m\n\u001b[1;32m---> 36\u001b[1;33m     \u001b[1;32mif\u001b[0m \u001b[0mdt1\u001b[0m\u001b[1;33m[\u001b[0m\u001b[1;34m'response'\u001b[0m\u001b[1;33m]\u001b[0m\u001b[1;33m[\u001b[0m\u001b[1;34m'body'\u001b[0m\u001b[1;33m]\u001b[0m\u001b[1;33m[\u001b[0m\u001b[1;34m'items'\u001b[0m\u001b[1;33m]\u001b[0m\u001b[1;33m:\u001b[0m\u001b[1;33m\u001b[0m\u001b[0m\n\u001b[0m\u001b[0;32m     37\u001b[0m         \u001b[0mdt2\u001b[0m \u001b[1;33m=\u001b[0m \u001b[0mdt1\u001b[0m\u001b[1;33m[\u001b[0m\u001b[1;34m'response'\u001b[0m\u001b[1;33m]\u001b[0m\u001b[1;33m[\u001b[0m\u001b[1;34m'body'\u001b[0m\u001b[1;33m]\u001b[0m\u001b[1;33m[\u001b[0m\u001b[1;34m'items'\u001b[0m\u001b[1;33m]\u001b[0m\u001b[1;33m[\u001b[0m\u001b[1;34m'item'\u001b[0m\u001b[1;33m]\u001b[0m\u001b[1;33m\u001b[0m\u001b[0m\n\u001b[0;32m     38\u001b[0m         \u001b[0minfo\u001b[0m \u001b[1;33m=\u001b[0m \u001b[0mdt2\u001b[0m\u001b[1;33m[\u001b[0m\u001b[1;34m'basic'\u001b[0m\u001b[1;33m]\u001b[0m\u001b[1;33m[\u001b[0m\u001b[1;36m7\u001b[0m\u001b[1;33m:\u001b[0m\u001b[1;33m-\u001b[0m\u001b[1;36m6\u001b[0m\u001b[1;33m]\u001b[0m\u001b[1;33m\u001b[0m\u001b[0m\n",
      "\u001b[1;31mKeyError\u001b[0m: 'response'"
     ]
    }
   ],
   "source": [
    "# coding: utf-8\n",
    "import pandas\n",
    "import requests\n",
    "import csv\n",
    "import json\n",
    "import xmltodict\n",
    "from collections import OrderedDict\n",
    "from pymongo import MongoClient\n",
    "\n",
    "client = MongoClient()\n",
    "client = MongoClient('mongodb://localhost:27017/')\n",
    "db= client.country_info\n",
    "collection = db.country_info\n",
    "\n",
    "url = \"http://apis.data.go.kr/1262000/CountryBasicService/getCountryBasicList\"\n",
    "sKey = \"24C%2FxddyRCTiVMSQN7xGhrvODlbKHfrGG%2Bg4ryyKXO8GGVjexQKYpkSH7PHU6MamZZ9qa07Dq9h25bAohPX3Jg%3D%3D\"\n",
    "\n",
    "code_list = []\n",
    "with open(\"isoCode.csv\", 'r') as f:\n",
    "    csvreader = csv.reader(f)\n",
    "    for row in csvreader:\n",
    "        code = row[0].split(',')\n",
    "        code_list.append(code[0])\n",
    "\n",
    "code_list = code_list[2:]\n",
    "\n",
    "\n",
    "\n",
    "for iso in code_list:\n",
    "    payload = {'serviceKey': sKey ,'isoCode1':iso}\n",
    "    payload_str = \"&\".join(\"%s=%s\" % (k,v) for k,v in payload.items())\n",
    "\n",
    "    resp = requests.get(url,params = payload_str)\n",
    "    xmlString = resp.text     \n",
    "    dt1 = xmltodict.parse(xmlString,encoding= 'utf-8')\n",
    "    if dt1['response']:\n",
    "        if dt1['response']['body']['items']:\n",
    "            dt2 = dt1['response']['body']['items']['item']\n",
    "            info = dt2['basic'][7:-6]\n",
    "            infoes = info.split('ㅇ ')\n",
    "            for data in infoes:\n",
    "                data = data.strip()\n",
    "                if '<br>' in data:\n",
    "                    data = data[:-4]\n",
    "                data = data.split(':')\n",
    "                if len(data) is 2:\n",
    "                    dt2[data[0]]=data[1]\n",
    "            del dt2['basic']\n",
    "    \n",
    "            jsonString = json.dumps(dt2, indent=2, ensure_ascii=False)\n",
    "            collection.insert_one(dt2)\n",
    " \n",
    "            with open(\"country_info.txt\", 'a',encoding='utf-8') as f:\n",
    "                f.write(jsonString)\n"
   ]
  },
  {
   "cell_type": "code",
   "execution_count": null,
   "metadata": {},
   "outputs": [],
   "source": [
    "from pymongo import MongoClient\n",
    "client = MongoClient()\n",
    "client = MongoClient('mongodb://localhost:27017/')\n",
    "db= client.country_info\n",
    "collection = db.country_info\n",
    "result = collection.insert(jsonString)\n"
   ]
  }
 ],
 "metadata": {
  "kernelspec": {
   "display_name": "Python 3",
   "language": "python",
   "name": "python3"
  },
  "language_info": {
   "codemirror_mode": {
    "name": "ipython",
    "version": 3
   },
   "file_extension": ".py",
   "mimetype": "text/x-python",
   "name": "python",
   "nbconvert_exporter": "python",
   "pygments_lexer": "ipython3",
   "version": "3.6.4"
  }
 },
 "nbformat": 4,
 "nbformat_minor": 2
}
