{
 "cells": [
  {
   "cell_type": "code",
   "execution_count": 6,
   "metadata": {},
   "outputs": [
    {
     "name": "stdout",
     "output_type": "stream",
     "text": [
      "OrderedDict([('item', OrderedDict([('basic', '<div>ㅇ 국명 : 가봉 공화국(Republique Gabonaise) <br>\\r\\nㅇ 위치 : 아프리카 중서부 적도 <br>\\r\\nㅇ 기후 : 열대성 기후, 연중 고온다습 <br>\\r\\nㅇ 면적 : 267,667㎢ (한반도의 1.2배) <br>\\r\\nㅇ 인종 : Fang(28%, 다수족), Echira, Edouma, Okando, Nzebi, Bateke 등 40여 종족 <br>\\r\\nㅇ 언어 : 불어(공용어), 토착어 (Fang, Echira 등)<br>\\r\\nㅇ 수도 : 리브르빌(Libreville, 인구 67만) <br>\\r\\nㅇ 주요 도시 : 뽀르장띠(Port-Gentil, 제2도시, 수출입항), 프랑스 빌(Franceville) <br>\\r\\nㅇ 종교 : 토속신앙(40%), 가톨릭(40%) 신교(10%), 회교(10%) <br></div>'), ('continent', '중동/아프리카'), ('countryEnName', 'Gabon'), ('countryName', '가봉'), ('id', '2'), ('imgUrl', 'http://www.0404.go.kr/imgsrc.mofa?atch_file_id=COUNTRY_2&file_sn=1'), ('wrtDt', '2010-02-03')]))])\n",
      "OrderedDict([('item', OrderedDict([('basic', '<div>ㅇ 국명 : 가이아나 협동 공화국(Coperative Republic of Guyana)<br>\\r\\nㅇ 수도 : 조지타운(Georgetown)<br>\\r\\nㅇ 위치 : 서쪽으로 베네수엘라, 동쪽으로 수리남, 남쪽으로 브라질과 국경<br>\\r\\nㅇ 면적 : 214,970 ㎢ (한반도보다 조금 작음)<br>\\r\\nㅇ 언어 : 영어<br>\\r\\nㅇ 종교 : 기독교 57%, 힌두교 33%, 회교 9%, 기타 1%<br>\\r\\nㅇ 화폐 : 가이아나 달러(Guyanese Dollar)<br>ㅇ 시차 : 우리나라 시간 -12시간</div>'), ('continent', '미주'), ('countryEnName', 'Guyana'), ('countryName', '가이아나공화국'), ('id', '315'), ('imgUrl', 'http://www.0404.go.kr/imgsrc.mofa?atch_file_id=COUNTRY_315&file_sn=1'), ('wrtDt', '2010-02-02')]))])\n",
      "OrderedDict([('item', OrderedDict([('basic', \"<div>ㅇ 수도 : 반줄(Banjul)<br>\\r\\nㅇ 인구 : 197만 명('15.7)<br>\\r\\nㅇ 면적 : 11,295㎢(한반도의 1/20)<br>\\r\\nㅇ 민족 : Mandinka, Peul, Wolof 등<br>\\r\\nㅇ 종교 : 회교(90%), 기독교(9%) 등<br>\\r\\nㅇ 언어 : 영어(공용어), Wolof 어&nbsp;</div>\"), ('continent', '중동/아프리카'), ('countryEnName', 'Gambia'), ('countryName', '감비아'), ('id', '5'), ('imgUrl', 'http://www.0404.go.kr/imgsrc.mofa?atch_file_id=COUNTRY_5&file_sn=1'), ('wrtDt', '2011-01-31')]))])\n",
      "None\n"
     ]
    },
    {
     "ename": "TypeError",
     "evalue": "'NoneType' object is not subscriptable",
     "output_type": "error",
     "traceback": [
      "\u001b[1;31m---------------------------------------------------------------------------\u001b[0m",
      "\u001b[1;31mTypeError\u001b[0m                                 Traceback (most recent call last)",
      "\u001b[1;32m<ipython-input-6-5cb1b5ef3747>\u001b[0m in \u001b[0;36m<module>\u001b[1;34m()\u001b[0m\n\u001b[0;32m     28\u001b[0m     \u001b[0mprint\u001b[0m\u001b[1;33m(\u001b[0m \u001b[0mdt1\u001b[0m\u001b[1;33m[\u001b[0m\u001b[1;34m'response'\u001b[0m\u001b[1;33m]\u001b[0m\u001b[1;33m[\u001b[0m\u001b[1;34m'body'\u001b[0m\u001b[1;33m]\u001b[0m\u001b[1;33m[\u001b[0m\u001b[1;34m'items'\u001b[0m\u001b[1;33m]\u001b[0m\u001b[1;33m)\u001b[0m\u001b[1;33m\u001b[0m\u001b[0m\n\u001b[0;32m     29\u001b[0m \u001b[1;33m\u001b[0m\u001b[0m\n\u001b[1;32m---> 30\u001b[1;33m     \u001b[0mdt2\u001b[0m \u001b[1;33m=\u001b[0m \u001b[0mdt1\u001b[0m\u001b[1;33m[\u001b[0m\u001b[1;34m'response'\u001b[0m\u001b[1;33m]\u001b[0m\u001b[1;33m[\u001b[0m\u001b[1;34m'body'\u001b[0m\u001b[1;33m]\u001b[0m\u001b[1;33m[\u001b[0m\u001b[1;34m'items'\u001b[0m\u001b[1;33m]\u001b[0m\u001b[1;33m[\u001b[0m\u001b[1;34m'item'\u001b[0m\u001b[1;33m]\u001b[0m\u001b[1;33m\u001b[0m\u001b[0m\n\u001b[0m\u001b[0;32m     31\u001b[0m     \u001b[0minfo\u001b[0m \u001b[1;33m=\u001b[0m \u001b[0mdt2\u001b[0m\u001b[1;33m[\u001b[0m\u001b[1;34m'basic'\u001b[0m\u001b[1;33m]\u001b[0m\u001b[1;33m[\u001b[0m\u001b[1;36m7\u001b[0m\u001b[1;33m:\u001b[0m\u001b[1;33m-\u001b[0m\u001b[1;36m6\u001b[0m\u001b[1;33m]\u001b[0m\u001b[1;33m\u001b[0m\u001b[0m\n\u001b[0;32m     32\u001b[0m     \u001b[0minfoes\u001b[0m \u001b[1;33m=\u001b[0m \u001b[0minfo\u001b[0m\u001b[1;33m.\u001b[0m\u001b[0msplit\u001b[0m\u001b[1;33m(\u001b[0m\u001b[1;34m'ㅇ '\u001b[0m\u001b[1;33m)\u001b[0m\u001b[1;33m\u001b[0m\u001b[0m\n",
      "\u001b[1;31mTypeError\u001b[0m: 'NoneType' object is not subscriptable"
     ]
    }
   ],
   "source": [
    "# coding: utf-8\n",
    "import pandas\n",
    "import requests\n",
    "import csv\n",
    "import json\n",
    "import xmltodict\n",
    "from collections import OrderedDict\n",
    "\n",
    "url = \"http://apis.data.go.kr/1262000/CountryBasicService/getCountryBasicList\"\n",
    "sKey = \"24C%2FxddyRCTiVMSQN7xGhrvODlbKHfrGG%2Bg4ryyKXO8GGVjexQKYpkSH7PHU6MamZZ9qa07Dq9h25bAohPX3Jg%3D%3D\"\n",
    "\n",
    "code_list = []\n",
    "with open(\"isoCode.csv\", 'r') as f:\n",
    "    csvreader = csv.reader(f)\n",
    "    for row in csvreader:\n",
    "        code = row[0].split(',')\n",
    "        code_list.append(code[0])\n",
    "\n",
    "code_list = code_list[2:]\n",
    "\n",
    "for iso in code_list:\n",
    "    payload = {'serviceKey': sKey ,'isoCode1':iso}\n",
    "    payload_str = \"&\".join(\"%s=%s\" % (k,v) for k,v in payload.items())\n",
    "\n",
    "    resp = requests.get(url,params = payload_str)\n",
    "    xmlString = resp.text     \n",
    "    dt1 = xmltodict.parse(xmlString,encoding= 'utf-8')\n",
    "    if dt1['response']['body']['items']:\n",
    "        \n",
    "        dt2 = dt1['response']['body']['items']['item']\n",
    "        info = dt2['basic'][7:-6]\n",
    "        infoes = info.split('ㅇ ')\n",
    "        for data in infoes:\n",
    "            data = data.strip()\n",
    "            if '<br>' in data:\n",
    "                data = data[:-4]\n",
    "            data = data.split(':')\n",
    "            dt2[data[0]]=data[1]\n",
    "        del dt2['basic']\n",
    "    \n",
    "        jsonString = json.dumps(dt2, indent=2, ensure_ascii=False)\n",
    " \n",
    "        with open(\"country_info.json\", 'a',encoding='utf-8') as f:\n",
    "            f.write(jsonString)\n"
   ]
  },
  {
   "cell_type": "code",
   "execution_count": null,
   "metadata": {},
   "outputs": [],
   "source": []
  }
 ],
 "metadata": {
  "kernelspec": {
   "display_name": "Python 3",
   "language": "python",
   "name": "python3"
  },
  "language_info": {
   "codemirror_mode": {
    "name": "ipython",
    "version": 3
   },
   "file_extension": ".py",
   "mimetype": "text/x-python",
   "name": "python",
   "nbconvert_exporter": "python",
   "pygments_lexer": "ipython3",
   "version": "3.6.4"
  }
 },
 "nbformat": 4,
 "nbformat_minor": 2
}
