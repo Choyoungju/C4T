{
 "cells": [
  {
   "cell_type": "code",
   "execution_count": 17,
   "metadata": {},
   "outputs": [],
   "source": [
    "import xmltodict\n",
    "from collections import OrderedDict\n",
    "import re\n",
    "string = '''<?xml version=\"1.0\" encoding=\"UTF-8\" standalone=\"yes\"?><response><header><resultCode>00</resultCode><resultMsg>NORMAL SERVICE.</resultMsg></header><body><items><item><contact>&lt;h3 class=&quot;tit&quot;&gt;긴급 연락처&lt;/h3&gt;ㅇ 전국 범죄 신고 10111(빈툭시내 전용은 304)&lt;br&gt;&#xD;\n",
    "ㅇ 화재신고, 응급의료 211111&lt;br&gt;&#xD;\n",
    "&lt;br&gt;&#xD;\n",
    "&#xD;\n",
    "&lt;h3 class=&quot;tit&quot;&gt;관광통역 서비스&lt;/h3&gt;ㅇ 관광경찰 10111&lt;br&gt;&#xD;\n",
    "(범죄 신고 번화와 같으며, 관광객이라고 밝히면 관광객을 위한 경찰 파트로 연결해줌)&lt;br&gt;&#xD;\n",
    "&lt;br&gt;&#xD;\n",
    "ㅇ 관광통역 전화 서비스는 없습니다.&lt;br&gt;&#xD;\n",
    "&lt;br&gt;&#xD;\n",
    "&#xD;\n",
    "&lt;h3 class=&quot;tit&quot;&gt;의료기관 연락처&lt;/h3&gt;ㅇ 주요 병원(병실 200석 이상)&lt;br&gt;&#xD;\n",
    "&amp;nbsp;&amp;nbsp;&amp;nbsp;&amp;nbsp; - 빈툭(Windhoek) 지역 : 빈툭 중앙병원(Windhoek Central), 빈툭 카투투라병원(Windhoek Katutura), 로버트무가베 (Robert Mugabe) 병원, 돈커후크(Donkerhoek) 병원&lt;br&gt;&#xD;\n",
    "&amp;nbsp;&amp;nbsp;&amp;nbsp;&amp;nbsp; - 카티마물리로(Katima Mulilo) 지역 : 카티마물리로병원, 바투바자(Batubaja) 병원&lt;br&gt;&#xD;\n",
    "&amp;nbsp;&amp;nbsp;&amp;nbsp;&amp;nbsp; - 난쿤두(Nankundu) 지역 : 카루하(Gcaruha) 병원&lt;br&gt;&#xD;\n",
    "&amp;nbsp;&amp;nbsp;&amp;nbsp;&amp;nbsp; - 룬두(Rundu) 지역 : 룬두병원, 콰징가(Gcwatjinga) 병원&lt;br&gt;&#xD;\n",
    "&amp;nbsp;&amp;nbsp;&amp;nbsp;&amp;nbsp; - 엔젤라(Engela) 지역 : 엔젤라병원, 에둔자(Edundja) 병원&lt;br&gt;&#xD;\n",
    "&amp;nbsp;&amp;nbsp;&amp;nbsp;&amp;nbsp; - 오시쿠쿠(Oshikuku) 지역 : 오시쿠쿠병원, 오공고(Ogongo) 병원&lt;br&gt;&#xD;\n",
    "&amp;nbsp;&amp;nbsp;&amp;nbsp;&amp;nbsp; - 오샤카티(Oshakati) 지역 : 오샤카티병원, 옴푼자(Ompundja) 병원&lt;br&gt;&#xD;\n",
    "&amp;nbsp;&amp;nbsp;&amp;nbsp;&amp;nbsp; - 오난조퀴(Onandjokwe) 지역 : 오난조퀴병원, 은다모나(Ndamona) 병원&lt;br&gt;&#xD;\n",
    "&lt;br&gt;&#xD;\n",
    "&#xD;\n",
    "&lt;h3 class=&quot;tit&quot;&gt;대사관 연락처&lt;/h3&gt;&lt;p&gt;※ 나미비아에는 우리대사관이 없으며, 주앙골라한국대사관이 겸임하고 있습니다.&amp;nbsp;&amp;nbsp;&lt;/p&gt;&lt;p&gt;ㅇ 주소 : Centro de Convencoes Talatona(chalet A101), Luanda-Sul, Angola&lt;br&gt;&#xD;\n",
    "ㅇ 대표번호 :&amp;nbsp;+244-222-006-067~068&lt;br&gt;ㅇ 긴급연락처: +244-929-212-880&lt;br&gt;&#xD;\n",
    "ㅇ Fax : +244-222-006-066&lt;br&gt;&#xD;\n",
    "ㅇ E-mail : &lt;a href=&quot;mailto:korembassy_angola@mofa.go.kr&quot;&gt;korembassy_angola@mofa.go.kr&lt;/a&gt;&lt;/p&gt;</contact><continent>중동/아프리카</continent><countryEnName>Namibia</countryEnName><countryName>나미비아</countryName><id>15</id><imgUrl>http://www.0404.go.kr/dev/fileDownload.mofa?atch_file_id=COUNTRY_15&amp;file_sn=1</imgUrl><imgUrl2>http://www.0404.go.kr/dev/fileDownload.mofa?atch_file_id=COUNTRY_15&amp;file_sn=3</imgUrl2><wrtDt>2011-01-28</wrtDt></item></items><numOfRows>10</numOfRows><pageNo>1</pageNo><totalCount>1</totalCount></body></response>'''\n",
    "dt1 = xmltodict.parse(string,encoding= 'utf-8')"
   ]
  },
  {
   "cell_type": "code",
   "execution_count": 18,
   "metadata": {},
   "outputs": [
    {
     "name": "stdout",
     "output_type": "stream",
     "text": [
      "<h3 class=\"tit\">긴급 연락처</h3>ㅇ 전국 범죄 신고 10111(빈툭시내 전용은 304)<br>\r\n",
      "ㅇ 화재신고, 응급의료 211111<br>\r\n",
      "<br>\r\n",
      "\r\n",
      "<h3 class=\"tit\">관광통역 서비스</h3>ㅇ 관광경찰 10111<br>\r\n",
      "(범죄 신고 번화와 같으며, 관광객이라고 밝히면 관광객을 위한 경찰 파트로 연결해줌)<br>\r\n",
      "<br>\r\n",
      "ㅇ 관광통역 전화 서비스는 없습니다.<br>\r\n",
      "<br>\r\n",
      "\r\n",
      "<h3 class=\"tit\">의료기관 연락처</h3>ㅇ 주요 병원(병실 200석 이상)<br>\r\n",
      "&nbsp;&nbsp;&nbsp;&nbsp; - 빈툭(Windhoek) 지역 : 빈툭 중앙병원(Windhoek Central), 빈툭 카투투라병원(Windhoek Katutura), 로버트무가베 (Robert Mugabe) 병원, 돈커후크(Donkerhoek) 병원<br>\r\n",
      "&nbsp;&nbsp;&nbsp;&nbsp; - 카티마물리로(Katima Mulilo) 지역 : 카티마물리로병원, 바투바자(Batubaja) 병원<br>\r\n",
      "&nbsp;&nbsp;&nbsp;&nbsp; - 난쿤두(Nankundu) 지역 : 카루하(Gcaruha) 병원<br>\r\n",
      "&nbsp;&nbsp;&nbsp;&nbsp; - 룬두(Rundu) 지역 : 룬두병원, 콰징가(Gcwatjinga) 병원<br>\r\n",
      "&nbsp;&nbsp;&nbsp;&nbsp; - 엔젤라(Engela) 지역 : 엔젤라병원, 에둔자(Edundja) 병원<br>\r\n",
      "&nbsp;&nbsp;&nbsp;&nbsp; - 오시쿠쿠(Oshikuku) 지역 : 오시쿠쿠병원, 오공고(Ogongo) 병원<br>\r\n",
      "&nbsp;&nbsp;&nbsp;&nbsp; - 오샤카티(Oshakati) 지역 : 오샤카티병원, 옴푼자(Ompundja) 병원<br>\r\n",
      "&nbsp;&nbsp;&nbsp;&nbsp; - 오난조퀴(Onandjokwe) 지역 : 오난조퀴병원, 은다모나(Ndamona) 병원<br>\r\n",
      "<br>\r\n",
      "\r\n",
      "<h3 class=\"tit\">대사관 연락처</h3><p>※ 나미비아에는 우리대사관이 없으며, 주앙골라한국대사관이 겸임하고 있습니다.&nbsp;&nbsp;</p><p>ㅇ 주소 : Centro de Convencoes Talatona(chalet A101), Luanda-Sul, Angola<br>\r\n",
      "ㅇ 대표번호 :&nbsp;+244-222-006-067~068<br>ㅇ 긴급연락처: +244-929-212-880<br>\r\n",
      "ㅇ Fax : +244-222-006-066<br>\r\n",
      "ㅇ E-mail : <a href=\"mailto:korembassy_angola@mofa.go.kr\">korembassy_angola@mofa.go.kr</a></p>\n"
     ]
    }
   ],
   "source": [
    "info= dt1['response']['body']['items']['item']['contact']\n",
    "print(info)"
   ]
  },
  {
   "cell_type": "code",
   "execution_count": 27,
   "metadata": {},
   "outputs": [
    {
     "name": "stdout",
     "output_type": "stream",
     "text": [
      "<h3 class=\"tit\">긴급 연락처</h3>ㅇ 전국 범죄 신고 10111(빈툭시내 전용은 304)<br>\r\n",
      "ㅇ 화재신고, 응급의료 211111<br>\r\n",
      "<br>\r\n",
      "\r\n",
      "<h3 class=\"tit\">관광통역 서비스</h3>ㅇ 관광경찰 10111<br>\r\n",
      "(범죄 신고 번화와 같으며, 관광객이라고 밝히면 관광객을 위한 경찰 파트로 연결해줌)<br>\r\n",
      "<br>\r\n",
      "ㅇ 관광통역 전화 서비스는 없습니다.<br>\r\n",
      "<br>\r\n",
      "\r\n",
      "<h3 class=\"tit\">의료기관 연락처</h3>ㅇ 주요 병원(병실 200석 이상)<br>\r\n",
      " - 빈툭(Windhoek) 지역 : 빈툭 중앙병원(Windhoek Central), 빈툭 카투투라병원(Windhoek Katutura), 로버트무가베 (Robert Mugabe) 병원, 돈커후크(Donkerhoek) 병원<br>\r\n",
      " - 카티마물리로(Katima Mulilo) 지역 : 카티마물리로병원, 바투바자(Batubaja) 병원<br>\r\n",
      " - 난쿤두(Nankundu) 지역 : 카루하(Gcaruha) 병원<br>\r\n",
      " - 룬두(Rundu) 지역 : 룬두병원, 콰징가(Gcwatjinga) 병원<br>\r\n",
      " - 엔젤라(Engela) 지역 : 엔젤라병원, 에둔자(Edundja) 병원<br>\r\n",
      " - 오시쿠쿠(Oshikuku) 지역 : 오시쿠쿠병원, 오공고(Ogongo) 병원<br>\r\n",
      " - 오샤카티(Oshakati) 지역 : 오샤카티병원, 옴푼자(Ompundja) 병원<br>\r\n",
      " - 오난조퀴(Onandjokwe) 지역 : 오난조퀴병원, 은다모나(Ndamona) 병원<br>\r\n",
      "<br>\r\n",
      "\r\n",
      "<h3 class=\"tit\">대사관 연락처</h3><p>※ 나미비아에는 우리대사관이 없으며, 주앙골라한국대사관이 겸임하고 있습니다.</p><p>ㅇ 주소 : Centro de Convencoes Talatona(chalet A101), Luanda-Sul, Angola<br>\r\n",
      "ㅇ 대표번호 :+244-222-006-067~068<br>ㅇ 긴급연락처: +244-929-212-880<br>\r\n",
      "ㅇ Fax : +244-222-006-066<br>\r\n",
      "ㅇ E-mail : <a href=\"mailto:korembassy_angola@mofa.go.kr\">korembassy_angola@mofa.go.kr</a></p>\n"
     ]
    }
   ],
   "source": [
    "#p2 = re.compile('<.*>')\n",
    "p = re.compile('&nbsp;*')\n",
    "\n",
    "info = p.sub('',info)\n",
    "print(info)"
   ]
  },
  {
   "cell_type": "code",
   "execution_count": null,
   "metadata": {},
   "outputs": [],
   "source": []
  }
 ],
 "metadata": {
  "kernelspec": {
   "display_name": "Python 3",
   "language": "python",
   "name": "python3"
  },
  "language_info": {
   "codemirror_mode": {
    "name": "ipython",
    "version": 3
   },
   "file_extension": ".py",
   "mimetype": "text/x-python",
   "name": "python",
   "nbconvert_exporter": "python",
   "pygments_lexer": "ipython3",
   "version": "3.6.4"
  }
 },
 "nbformat": 4,
 "nbformat_minor": 2
}
