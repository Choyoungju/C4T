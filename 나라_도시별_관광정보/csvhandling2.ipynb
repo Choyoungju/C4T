{
 "cells": [
  {
   "cell_type": "code",
   "execution_count": 2,
   "metadata": {},
   "outputs": [],
   "source": [
    "from pymongo import MongoClient\n",
    "import csv\n",
    "\n",
    "client = MongoClient()\n",
    "client = MongoClient('mongodb://localhost:27017/')\n",
    "mydb2= client.mydb2\n",
    "mycollection = mydb2.mycollection2\n",
    "\n",
    "lol=[]\n",
    "\n",
    "with open('한국관광공사_해외여행 도시별 옷차림 정보_20160906.csv', newline='') as csvfile:\n",
    "    spamreader = csv.reader(csvfile)\n",
    "    for row in spamreader:\n",
    "        lol.append(row)\n",
    "\n",
    "title = lol[0]\n",
    "lol=lol[1:]\n",
    "for i in range(len(lol)):\n",
    "    dt={}\n",
    "    for j in range(len(title)):\n",
    "        dt[title[j]]= lol[i][j]\n",
    "    mycollection.insert_one(dt)\n"
   ]
  },
  {
   "cell_type": "code",
   "execution_count": null,
   "metadata": {},
   "outputs": [],
   "source": []
  }
 ],
 "metadata": {
  "kernelspec": {
   "display_name": "Python 3",
   "language": "python",
   "name": "python3"
  },
  "language_info": {
   "codemirror_mode": {
    "name": "ipython",
    "version": 3
   },
   "file_extension": ".py",
   "mimetype": "text/x-python",
   "name": "python",
   "nbconvert_exporter": "python",
   "pygments_lexer": "ipython3",
   "version": "3.6.4"
  }
 },
 "nbformat": 4,
 "nbformat_minor": 2
}
